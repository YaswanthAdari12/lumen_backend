{
  "nbformat": 4,
  "nbformat_minor": 0,
  "metadata": {
    "colab": {
      "provenance": []
    },
    "kernelspec": {
      "name": "python3",
      "display_name": "Python 3"
    },
    "language_info": {
      "name": "python"
    }
  },
  "cells": [
    {
      "cell_type": "markdown",
      "source": [
        "#STEP 1"
      ],
      "metadata": {
        "id": "eYcetfdVBJis"
      }
    },
    {
      "cell_type": "markdown",
      "source": [
        "## 1. **Data Loading and Database Design:**\n",
        "\n",
        "- **Normalization: Carefully design a normalized database schema to house the sales data effectively. Consider tables for orders, products, and potentially more.**\n",
        "- **Efficient Loading: Create a script to load the CSV data into your database. Ensure proper data validation and transformation throughout the process.**"
      ],
      "metadata": {
        "id": "ewaIGl--LlzD"
      }
    },
    {
      "cell_type": "code",
      "execution_count": 1,
      "metadata": {
        "id": "FzWZDMdr2sOA"
      },
      "outputs": [],
      "source": [
        "import pandas as pd\n",
        "import sqlite3\n",
        "import numpy\n",
        "from datetime import datetime"
      ]
    },
    {
      "cell_type": "code",
      "source": [
        "csv_file_path = '/content/sample_data/sample_csv.csv'"
      ],
      "metadata": {
        "id": "NEHDOfiT29M-"
      },
      "execution_count": 2,
      "outputs": []
    },
    {
      "cell_type": "code",
      "source": [
        "def transform(df):\n",
        "    df['Date of Sale'] = pd.to_datetime(df['Date of Sale'], errors='coerce')\n",
        "    # Convert numeric fields\n",
        "    df['Quantity Sold'] = pd.to_numeric(df['Quantity Sold'], errors='coerce')\n",
        "    df['Unit Price'] = pd.to_numeric(df['Unit Price'], errors='coerce')\n",
        "    df['Discount'] = pd.to_numeric(df['Discount'], errors='coerce')\n",
        "    df['Shipping Cost'] = pd.to_numeric(df['Shipping Cost'], errors='coerce')\n",
        "\n",
        "    # Drop rows with missing essential fields\n",
        "    df.dropna(subset=['Order ID', 'Product ID', 'Customer ID', 'Date of Sale', 'Quantity Sold', 'Unit Price'], inplace=True)\n",
        "\n",
        "    # Fill missing values for non-essential fields if necessary\n",
        "    df['Discount'].fillna(0, inplace=True)\n",
        "    df['Shipping Cost'].fillna(0, inplace=True)\n",
        "\n",
        "    # Remove duplicates\n",
        "    df.drop_duplicates(subset=['Order ID', 'Product ID'], keep='first', inplace=True)\n",
        "\n",
        "    df['Total Price'] = df['Quantity Sold'] * df['Unit Price'] - df['Discount']\n",
        "\n",
        "    return df\n",
        "\n",
        "chunksize = 100000\n",
        "for data in pd.read_csv(csv_file_path, chunksize=chunksize):\n",
        "    # Validate and transform data\n",
        "    data = transform(data)\n",
        "    # Insert data into the Orders table\n",
        "    orders_chunk = data[['Order ID', 'Customer ID', 'Date of Sale', 'Shipping Cost', 'Payment Method', 'Discount']].drop_duplicates()\n",
        "    # Insert data into the Products table\n",
        "    products_chunk = data[['Product ID', 'Product Name', 'Category', 'Unit Price']].drop_duplicates()\n",
        "    # Insert data into the OrderDetails table\n",
        "    order_details_chunk = data[['Order ID', 'Product ID', 'Quantity Sold', 'Total Price']].drop_duplicates()\n",
        "    # Insert data into the Customers table\n",
        "    customers_chunk = data[['Customer ID', 'Customer Name', 'Customer Email', 'Customer Address', 'Region']].drop_duplicates()\n"
      ],
      "metadata": {
        "id": "rmr4mI-4225G"
      },
      "execution_count": 3,
      "outputs": []
    },
    {
      "cell_type": "code",
      "source": [
        "\n",
        "conn = sqlite3.connect('lumel.db')\n",
        "\n",
        "cursor = conn.cursor()"
      ],
      "metadata": {
        "id": "ZqF99AVc27Xs"
      },
      "execution_count": 4,
      "outputs": []
    },
    {
      "cell_type": "code",
      "source": [
        "orders_chunk.info()\n"
      ],
      "metadata": {
        "colab": {
          "base_uri": "https://localhost:8080/"
        },
        "id": "7psgHfee4Qu7",
        "outputId": "045eced0-151b-43aa-a8a3-7e65c9b6db07"
      },
      "execution_count": 5,
      "outputs": [
        {
          "output_type": "stream",
          "name": "stdout",
          "text": [
            "<class 'pandas.core.frame.DataFrame'>\n",
            "RangeIndex: 6 entries, 0 to 5\n",
            "Data columns (total 6 columns):\n",
            " #   Column          Non-Null Count  Dtype         \n",
            "---  ------          --------------  -----         \n",
            " 0   Order ID        6 non-null      int64         \n",
            " 1   Customer ID     6 non-null      object        \n",
            " 2   Date of Sale    6 non-null      datetime64[ns]\n",
            " 3   Shipping Cost   6 non-null      int64         \n",
            " 4   Payment Method  6 non-null      object        \n",
            " 5   Discount        6 non-null      float64       \n",
            "dtypes: datetime64[ns](1), float64(1), int64(2), object(2)\n",
            "memory usage: 416.0+ bytes\n"
          ]
        }
      ]
    },
    {
      "cell_type": "code",
      "source": [
        "products_chunk.info()"
      ],
      "metadata": {
        "colab": {
          "base_uri": "https://localhost:8080/"
        },
        "id": "7ChrRwLF4Wjg",
        "outputId": "90477110-a7a6-4578-fd65-ddcab28e2472"
      },
      "execution_count": 6,
      "outputs": [
        {
          "output_type": "stream",
          "name": "stdout",
          "text": [
            "<class 'pandas.core.frame.DataFrame'>\n",
            "Index: 4 entries, 0 to 4\n",
            "Data columns (total 4 columns):\n",
            " #   Column        Non-Null Count  Dtype  \n",
            "---  ------        --------------  -----  \n",
            " 0   Product ID    4 non-null      object \n",
            " 1   Product Name  4 non-null      object \n",
            " 2   Category      4 non-null      object \n",
            " 3   Unit Price    4 non-null      float64\n",
            "dtypes: float64(1), object(3)\n",
            "memory usage: 160.0+ bytes\n"
          ]
        }
      ]
    },
    {
      "cell_type": "code",
      "source": [
        "order_details_chunk.info()"
      ],
      "metadata": {
        "colab": {
          "base_uri": "https://localhost:8080/"
        },
        "id": "eO-L3uCx4Z6T",
        "outputId": "e76fd7f9-7baf-47e6-a7bb-d5e0d4837001"
      },
      "execution_count": 7,
      "outputs": [
        {
          "output_type": "stream",
          "name": "stdout",
          "text": [
            "<class 'pandas.core.frame.DataFrame'>\n",
            "RangeIndex: 6 entries, 0 to 5\n",
            "Data columns (total 4 columns):\n",
            " #   Column         Non-Null Count  Dtype  \n",
            "---  ------         --------------  -----  \n",
            " 0   Order ID       6 non-null      int64  \n",
            " 1   Product ID     6 non-null      object \n",
            " 2   Quantity Sold  6 non-null      int64  \n",
            " 3   Total Price    6 non-null      float64\n",
            "dtypes: float64(1), int64(2), object(1)\n",
            "memory usage: 320.0+ bytes\n"
          ]
        }
      ]
    },
    {
      "cell_type": "code",
      "source": [
        "customers_chunk.info()"
      ],
      "metadata": {
        "colab": {
          "base_uri": "https://localhost:8080/"
        },
        "id": "GPwFJQzm4b4i",
        "outputId": "f4c51e76-c95d-426f-f448-22b540f45e04"
      },
      "execution_count": 8,
      "outputs": [
        {
          "output_type": "stream",
          "name": "stdout",
          "text": [
            "<class 'pandas.core.frame.DataFrame'>\n",
            "RangeIndex: 6 entries, 0 to 5\n",
            "Data columns (total 5 columns):\n",
            " #   Column            Non-Null Count  Dtype \n",
            "---  ------            --------------  ----- \n",
            " 0   Customer ID       6 non-null      object\n",
            " 1   Customer Name     6 non-null      object\n",
            " 2   Customer Email    6 non-null      object\n",
            " 3   Customer Address  6 non-null      object\n",
            " 4   Region            6 non-null      object\n",
            "dtypes: object(5)\n",
            "memory usage: 368.0+ bytes\n"
          ]
        }
      ]
    },
    {
      "cell_type": "code",
      "source": [
        "#we have convert similar to this for all the table, due to timing constraint\n",
        "orders_chunk = orders_chunk.rename(columns={\n",
        "    'Order ID': 'OrderID',\n",
        "      \"Customer ID\":\"CustomerID\" ,\n",
        "      'Date of Sale':'DateOfSale',\n",
        "      'Shipping Cost':'ShippingCost' ,\n",
        "      'Payment Method': 'PaymentMethod',\n",
        "       'Discount':'Discount'\n",
        "})\n"
      ],
      "metadata": {
        "id": "6Bn4DD3Y4d_Z"
      },
      "execution_count": 9,
      "outputs": []
    },
    {
      "cell_type": "code",
      "source": [
        "#we have convert similar to this for all the table, due to timing constraint\n",
        "customers_chunk = customers_chunk.rename(columns={\n",
        "    'Order ID': 'OrderID',\n",
        "      \"Customer ID\":\"CustomerID\" ,\n",
        "      'Date of Sale':'DateOfSale',\n",
        "      'Shipping Cost':'ShippingCost' ,\n",
        "      'Payment Method': 'PaymentMethod',\n",
        "       'Discount':'Discount'\n",
        "})\n",
        "\n",
        "products_chunk = products_chunk.rename(columns={\n",
        "    'Product ID': 'ProductID',\n",
        "    'Product Name': 'ProductName',\n",
        "    'Category': 'Category',\n",
        "    'Unit Price': 'UnitPrice',\n",
        "})\n",
        "\n",
        "order_details_chunk = order_details_chunk.rename(columns={\n",
        "    'Order ID': 'OrderID',\n",
        "    'Product ID': 'ProductID',\n",
        "    'Quantity Sold': 'QuantitySold',\n",
        "    'Total Price': 'TotalPrice',\n",
        "})\n",
        "\n",
        "customers_chunk = customers_chunk.rename(columns={\n",
        "\n",
        "    'Customer ID': 'CustomerID',\n",
        "    'Customer Name': 'CustomerName',\n",
        "    'Customer Email': 'CustomerEmail',\n",
        "    'Customer Address': 'CustomerAddress',\n",
        "    'Region': 'Region'\n",
        "})\n"
      ],
      "metadata": {
        "id": "YO5vmT8D_mUX"
      },
      "execution_count": 10,
      "outputs": []
    },
    {
      "cell_type": "code",
      "source": [
        "orders_chunk.info()"
      ],
      "metadata": {
        "colab": {
          "base_uri": "https://localhost:8080/"
        },
        "id": "3Wd2RWBD5kYc",
        "outputId": "84020ae0-d373-4c66-cc49-c38c2139e0b3"
      },
      "execution_count": 11,
      "outputs": [
        {
          "output_type": "stream",
          "name": "stdout",
          "text": [
            "<class 'pandas.core.frame.DataFrame'>\n",
            "RangeIndex: 6 entries, 0 to 5\n",
            "Data columns (total 6 columns):\n",
            " #   Column         Non-Null Count  Dtype         \n",
            "---  ------         --------------  -----         \n",
            " 0   OrderID        6 non-null      int64         \n",
            " 1   CustomerID     6 non-null      object        \n",
            " 2   DateOfSale     6 non-null      datetime64[ns]\n",
            " 3   ShippingCost   6 non-null      int64         \n",
            " 4   PaymentMethod  6 non-null      object        \n",
            " 5   Discount       6 non-null      float64       \n",
            "dtypes: datetime64[ns](1), float64(1), int64(2), object(2)\n",
            "memory usage: 416.0+ bytes\n"
          ]
        }
      ]
    },
    {
      "cell_type": "code",
      "source": [
        "products_chunk.isna().sum()"
      ],
      "metadata": {
        "colab": {
          "base_uri": "https://localhost:8080/"
        },
        "id": "o7C_VXzc5qHI",
        "outputId": "23ab93c9-2219-425c-c06e-625bbfb35137"
      },
      "execution_count": 12,
      "outputs": [
        {
          "output_type": "execute_result",
          "data": {
            "text/plain": [
              "ProductID      0\n",
              "ProductName    0\n",
              "Category       0\n",
              "UnitPrice      0\n",
              "dtype: int64"
            ]
          },
          "metadata": {},
          "execution_count": 12
        }
      ]
    },
    {
      "cell_type": "code",
      "source": [
        "orders_chunk.isna().sum()"
      ],
      "metadata": {
        "colab": {
          "base_uri": "https://localhost:8080/"
        },
        "id": "IwRTBZax53y0",
        "outputId": "feabb07c-6c30-4355-d48f-87d6b3c6628a"
      },
      "execution_count": 13,
      "outputs": [
        {
          "output_type": "execute_result",
          "data": {
            "text/plain": [
              "OrderID          0\n",
              "CustomerID       0\n",
              "DateOfSale       0\n",
              "ShippingCost     0\n",
              "PaymentMethod    0\n",
              "Discount         0\n",
              "dtype: int64"
            ]
          },
          "metadata": {},
          "execution_count": 13
        }
      ]
    },
    {
      "cell_type": "code",
      "source": [
        "customers_chunk.isna().sum()"
      ],
      "metadata": {
        "colab": {
          "base_uri": "https://localhost:8080/"
        },
        "id": "hCpjdgPK6Ei1",
        "outputId": "c311c8b6-0984-4aa2-e2a6-d0a1b7fb4488"
      },
      "execution_count": 14,
      "outputs": [
        {
          "output_type": "execute_result",
          "data": {
            "text/plain": [
              "CustomerID         0\n",
              "CustomerName       0\n",
              "CustomerEmail      0\n",
              "CustomerAddress    0\n",
              "Region             0\n",
              "dtype: int64"
            ]
          },
          "metadata": {},
          "execution_count": 14
        }
      ]
    },
    {
      "cell_type": "code",
      "source": [
        "order_details_chunk.isna().sum()"
      ],
      "metadata": {
        "colab": {
          "base_uri": "https://localhost:8080/"
        },
        "id": "CbvggVRm6IPW",
        "outputId": "e652f342-6bcc-4cce-c043-0997a12d6cb5"
      },
      "execution_count": 15,
      "outputs": [
        {
          "output_type": "execute_result",
          "data": {
            "text/plain": [
              "OrderID         0\n",
              "ProductID       0\n",
              "QuantitySold    0\n",
              "TotalPrice      0\n",
              "dtype: int64"
            ]
          },
          "metadata": {},
          "execution_count": 15
        }
      ]
    },
    {
      "cell_type": "code",
      "source": [
        "\n",
        "cursor.execute('''\n",
        "CREATE TABLE IF NOT EXISTS Customers (\n",
        "    CustomerID INTEGER PRIMARY KEY,\n",
        "    CustomerName VARCHAR(255),\n",
        "    CustomerEmail VARCHAR(255),\n",
        "    CustomerAddress TEXT,\n",
        "    Region VARCHAR(255)\n",
        ")\n",
        "''')\n",
        "\n",
        "cursor.execute('''\n",
        "CREATE TABLE IF NOT EXISTS Orders (\n",
        "    OrderID INTEGER PRIMARY KEY,\n",
        "    CustomerID INTEGER,\n",
        "    DateOfSale DATE,\n",
        "    ShippingCost DECIMAL(10, 2),\n",
        "    PaymentMethod VARCHAR(50),\n",
        "    Discount DECIMAL(10, 2),\n",
        "    FOREIGN KEY (CustomerID) REFERENCES Customers(CustomerID)\n",
        ")\n",
        "''')\n",
        "\n",
        "cursor.execute('''\n",
        "CREATE TABLE IF NOT EXISTS OrderDetails (\n",
        "    OrderDetailID INTEGER PRIMARY KEY,\n",
        "    OrderID INTEGER,\n",
        "    ProductID INTEGER,\n",
        "    QuantitySold INTEGER,\n",
        "    TotalPrice DECIMAL(10, 2),\n",
        "    FOREIGN KEY (OrderID) REFERENCES Orders(OrderID),\n",
        "    FOREIGN KEY (ProductID) REFERENCES Products(ProductID)\n",
        ")\n",
        "''')\n",
        "\n",
        "cursor.execute('''\n",
        "CREATE TABLE IF NOT EXISTS Products (\n",
        "    ProductID INTEGER PRIMARY KEY,\n",
        "    ProductName VARCHAR(255) NOT NULL,\n",
        "    Category VARCHAR(255),\n",
        "    UnitPrice DECIMAL(10, 2),\n",
        "    ProductDescription TEXT\n",
        ")\n",
        "''')\n",
        "\n",
        "conn.commit()"
      ],
      "metadata": {
        "id": "b3w_scJK6NEz"
      },
      "execution_count": 16,
      "outputs": []
    },
    {
      "cell_type": "code",
      "source": [
        "customers_chunk.to_sql('Customers', conn, if_exists='replace', index =False)\n",
        "order_details_chunk.to_sql('OrdersDetails', conn, if_exists='replace', index =False)\n",
        "orders_chunk.to_sql('Orders', conn, if_exists='replace', index =False)\n",
        "products_chunk.to_sql('Products', conn, if_exists='replace', index =False)"
      ],
      "metadata": {
        "colab": {
          "base_uri": "https://localhost:8080/"
        },
        "id": "oh1z39GC7ZEN",
        "outputId": "904d74f1-edde-46f3-e416-6c1f7057eefc"
      },
      "execution_count": 17,
      "outputs": [
        {
          "output_type": "execute_result",
          "data": {
            "text/plain": [
              "4"
            ]
          },
          "metadata": {},
          "execution_count": 17
        }
      ]
    },
    {
      "cell_type": "code",
      "source": [
        "query = 'SELECT * FROM Orders'\n"
      ],
      "metadata": {
        "id": "UI60ofenDlBy"
      },
      "execution_count": 18,
      "outputs": []
    },
    {
      "cell_type": "code",
      "source": [
        "conn.execute(query)"
      ],
      "metadata": {
        "colab": {
          "base_uri": "https://localhost:8080/"
        },
        "id": "owScjKXWDtsh",
        "outputId": "3cb5dc78-25cb-4117-b310-97c9d27445fc"
      },
      "execution_count": 19,
      "outputs": [
        {
          "output_type": "execute_result",
          "data": {
            "text/plain": [
              "<sqlite3.Cursor at 0x7a17144173c0>"
            ]
          },
          "metadata": {},
          "execution_count": 19
        }
      ]
    },
    {
      "cell_type": "code",
      "source": [
        "results = cursor.fetchall()"
      ],
      "metadata": {
        "id": "ppBNpHSvDxOj"
      },
      "execution_count": 20,
      "outputs": []
    },
    {
      "cell_type": "markdown",
      "source": [
        "# STEP - 2"
      ],
      "metadata": {
        "id": "UdKprz3lBXAn"
      }
    },
    {
      "cell_type": "markdown",
      "source": [
        "## **2. Data Refresh Mechanism:**\n",
        "\n",
        "- **Periodic Refresh: Set up a mechanism to refresh the database data daily or on-demand. This could involve overwriting existing data or appending new data while managing duplicates.**\n",
        "- **Optional: Implement the data refresh mechanism as a background job or thread instead of handling in the API server application.**\n",
        "- **Logging: Maintain logs of data refresh activities (successful and failed) to facilitate troubleshooting.**"
      ],
      "metadata": {
        "id": "Gv8c9AX1Lyji"
      }
    },
    {
      "cell_type": "code",
      "source": [
        "import pandas as pd\n",
        "import sqlite3\n",
        "import numpy as np\n",
        "import logging\n",
        "from datetime import datetime\n",
        "from sqlalchemy import create_engine"
      ],
      "metadata": {
        "id": "CQScCzo99c3U"
      },
      "execution_count": 21,
      "outputs": []
    },
    {
      "cell_type": "code",
      "source": [
        "logging.basicConfig(filename='data_refresh.log', level=logging.INFO, format='%(asctime)s %(message)s')\n",
        "\n",
        "# By this point we have already created the database in the previous step\n",
        "db_path = 'lumel.db'\n",
        "engine = create_engine(f'sqlite:///{db_path}')\n"
      ],
      "metadata": {
        "id": "QOspHSENBbuI"
      },
      "execution_count": 22,
      "outputs": []
    },
    {
      "cell_type": "code",
      "source": [
        "# CSV file path\n",
        "csv_file_path = '/content/sample_data/sample_csv.csv'\n",
        "\n",
        "def transform(df):\n",
        "    df['Date of Sale'] = pd.to_datetime(df['Date of Sale'], errors='coerce')\n",
        "    df['Quantity Sold'] = pd.to_numeric(df['Quantity Sold'], errors='coerce')\n",
        "    df['Unit Price'] = pd.to_numeric(df['Unit Price'], errors='coerce')\n",
        "    df['Discount'] = pd.to_numeric(df['Discount'], errors='coerce')\n",
        "    df['Shipping Cost'] = pd.to_numeric(df['Shipping Cost'], errors='coerce')\n",
        "    df.dropna(subset=['Order ID', 'Product ID', 'Customer ID', 'Date of Sale', 'Quantity Sold', 'Unit Price'], inplace=True)\n",
        "    df['Discount'].fillna(0, inplace=True)\n",
        "    df['Shipping Cost'].fillna(0, inplace=True)\n",
        "    df.drop_duplicates(subset=['Order ID', 'Product ID'], keep='first', inplace=True)\n",
        "    df['Total Price'] = df['Quantity Sold'] * df['Unit Price'] - df['Discount']\n",
        "    return df"
      ],
      "metadata": {
        "id": "B1QIoKtTBi4j"
      },
      "execution_count": 23,
      "outputs": []
    },
    {
      "cell_type": "code",
      "source": [
        "def load_data(csv_path):\n",
        "    chunksize = 100000\n",
        "    try:\n",
        "        for data in pd.read_csv(csv_path, chunksize=chunksize):\n",
        "            data = transform(data)\n",
        "            orders_chunk = data[['Order ID', 'Customer ID', 'Date of Sale', 'Shipping Cost', 'Payment Method', 'Discount']].drop_duplicates()\n",
        "            products_chunk = data[['Product ID', 'Product Name', 'Category', 'Unit Price']].drop_duplicates()\n",
        "            order_details_chunk = data[['Order ID', 'Product ID', 'Quantity Sold', 'Total Price']].drop_duplicates()\n",
        "            customers_chunk = data[['Customer ID', 'Customer Name', 'Customer Email', 'Customer Address', 'Region']].drop_duplicates()\n",
        "\n",
        "            orders_chunk = orders_chunk.rename(columns={\n",
        "                'Order ID': 'OrderID',\n",
        "                'Customer ID': 'CustomerID',\n",
        "                'Date of Sale': 'DateOfSale',\n",
        "                'Shipping Cost': 'ShippingCost',\n",
        "                'Payment Method': 'PaymentMethod',\n",
        "                'Discount': 'Discount'\n",
        "            })\n",
        "\n",
        "            products_chunk = products_chunk.rename(columns={\n",
        "                'Product ID': 'ProductID',\n",
        "                'Product Name': 'ProductName',\n",
        "                'Category':'Category',\n",
        "                'Unit Price': 'UnitPrice',\n",
        "            })\n",
        "\n",
        "            order_details_chunk = order_details_chunk.rename(columns={\n",
        "                'Order ID': 'OrderID',\n",
        "                'Product ID': 'ProductID',\n",
        "                'Quantity Sold':'QuantitySold',\n",
        "                'Total Price': 'TotalPrice',\n",
        "            })\n",
        "\n",
        "            customers_chunk = customers_chunk.rename(columns={\n",
        "\n",
        "                'Customer ID': 'CustomerID',\n",
        "                'Customer Name': 'CustomerName',\n",
        "                'Customer Email': 'CustomerEmail',\n",
        "                'Customer Address': 'CustomerAddress',\n",
        "                'Region': 'Region'\n",
        "            })\n",
        "\n",
        "            orders_chunk.to_sql('Orders', engine, if_exists='append', index=False)\n",
        "            products_chunk.to_sql('Products', engine, if_exists='append', index=False)\n",
        "            order_details_chunk.to_sql('OrderDetails', engine, if_exists='append', index=False)\n",
        "            customers_chunk.to_sql('Customers', engine, if_exists='append', index=False)\n",
        "\n",
        "            logging.info(f\"Loaded {len(data)} records to the database.\")\n",
        "    except Exception as e:\n",
        "        logging.error(f\"Data refresh failed: {e}\")"
      ],
      "metadata": {
        "id": "65305xIiBnEt"
      },
      "execution_count": 24,
      "outputs": []
    },
    {
      "cell_type": "code",
      "source": [
        "def refresh_data():\n",
        "    try:\n",
        "        load_data(csv_file_path)\n",
        "        logging.info('Data refresh completed successfully.')\n",
        "    except Exception as e:\n",
        "        logging.error(f\"Data refresh failed: {e}\")"
      ],
      "metadata": {
        "id": "NWldvuuGDYJ5"
      },
      "execution_count": 25,
      "outputs": []
    },
    {
      "cell_type": "markdown",
      "source": [
        "#STEP-3\n",
        "**3. RESTful API for Analysis:**\n",
        "\n",
        "- API Design: Craft a well-structured RESTful API with endpoints to trigger and retrieve the results of various calculations (detailed below).**\n",
        "- API to trigger the data refresh on demand"
      ],
      "metadata": {
        "id": "4AUtn9-KEOPb"
      }
    },
    {
      "cell_type": "code",
      "source": [
        "#Adding API END Points - FLASK\n",
        "\n",
        "from flask import Flask, jsonify, request\n",
        "import pandas as pd\n",
        "import sqlite3\n",
        "import logging\n",
        "from datetime import datetime\n",
        "from sqlalchemy import create_engine"
      ],
      "metadata": {
        "id": "mq782kLEENe6"
      },
      "execution_count": 26,
      "outputs": []
    },
    {
      "cell_type": "code",
      "source": [
        "app = Flask(__name__)\n",
        "\n",
        "# Configure logging\n",
        "logging.basicConfig(filename='data_refresh.log', level=logging.INFO, format='%(asctime)s %(message)s')\n",
        "\n",
        "# Database connection\n",
        "db_path = 'lumel.db'\n",
        "engine = create_engine(f'sqlite:///{db_path}')\n",
        "\n",
        "# CSV file path\n",
        "csv_file_path = '/content/sample_data/sample_csv.csv'"
      ],
      "metadata": {
        "id": "lqHtY5XXEV6c"
      },
      "execution_count": 27,
      "outputs": []
    },
    {
      "cell_type": "code",
      "source": [
        "def transform(df):\n",
        "    df['Date of Sale'] = pd.to_datetime(df['Date of Sale'], errors='coerce')\n",
        "    df['Quantity Sold'] = pd.to_numeric(df['Quantity Sold'], errors='coerce')\n",
        "    df['Unit Price'] = pd.to_numeric(df['Unit Price'], errors='coerce')\n",
        "    df['Discount'] = pd.to_numeric(df['Discount'], errors='coerce')\n",
        "    df['Shipping Cost'] = pd.to_numeric(df['Shipping Cost'], errors='coerce')\n",
        "    df.dropna(subset=['Order ID', 'Product ID', 'Customer ID', 'Date of Sale', 'Quantity Sold', 'Unit Price'], inplace=True)\n",
        "    df['Discount'].fillna(0, inplace=True)\n",
        "    df['Shipping Cost'].fillna(0, inplace=True)\n",
        "    df.drop_duplicates(subset=['Order ID', 'Product ID'], keep='first', inplace=True)\n",
        "    df['Total Price'] = df['Quantity Sold'] * df['Unit Price'] - df['Discount']\n",
        "    return df"
      ],
      "metadata": {
        "id": "Pa5-XCulEZd-"
      },
      "execution_count": 28,
      "outputs": []
    },
    {
      "cell_type": "code",
      "source": [
        "def load_data(csv_path):\n",
        "    chunksize = 100000\n",
        "    try:\n",
        "        for data in pd.read_csv(csv_path, chunksize=chunksize):\n",
        "            data = transform(data)\n",
        "            orders_chunk = data[['Order ID', 'Customer ID', 'Date of Sale', 'Shipping Cost', 'Payment Method', 'Discount']].drop_duplicates()\n",
        "            products_chunk = data[['Product ID', 'Product Name', 'Category', 'Unit Price']].drop_duplicates()\n",
        "            order_details_chunk = data[['Order ID', 'Product ID', 'Quantity Sold', 'Total Price']].drop_duplicates()\n",
        "            customers_chunk = data[['Customer ID', 'Customer Name', 'Customer Email', 'Customer Address', 'Region']].drop_duplicates()\n",
        "\n",
        "            orders_chunk = orders_chunk.rename(columns={\n",
        "                'Order ID': 'OrderID',\n",
        "                'Customer ID': 'CustomerID',\n",
        "                'Date of Sale': 'DateOfSale',\n",
        "                'Shipping Cost': 'ShippingCost',\n",
        "                'Payment Method': 'PaymentMethod',\n",
        "                'Discount': 'Discount'\n",
        "            })\n",
        "\n",
        "            products_chunk = products_chunk.rename(columns={\n",
        "                'Product ID': 'ProductID',\n",
        "                'Product Name': 'ProductName',\n",
        "                'Category':'Category',\n",
        "                'Unit Price': 'UnitPrice',\n",
        "            })\n",
        "\n",
        "            order_details_chunk = order_details_chunk.rename(columns={\n",
        "                'Order ID': 'OrderID',\n",
        "                'Product ID': 'ProductID',\n",
        "                'Quantity Sold':'QuantitySold',\n",
        "                'Total Price': 'TotalPrice',\n",
        "            })\n",
        "\n",
        "            customers_chunk = customers_chunk.rename(columns={\n",
        "\n",
        "                'Customer ID': 'CustomerID',\n",
        "                'Customer Name': 'CustomerName',\n",
        "                'Customer Email': 'CustomerEmail',\n",
        "                'Customer Address': 'CustomerAddress',\n",
        "                'Region': 'Region'\n",
        "            })\n",
        "\n",
        "            orders_chunk.to_sql('Orders', engine, if_exists='append', index=False)\n",
        "            products_chunk.to_sql('Products', engine, if_exists='append', index=False)\n",
        "            order_details_chunk.to_sql('OrderDetails', engine, if_exists='append', index=False)\n",
        "            customers_chunk.to_sql('Customers', engine, if_exists='append', index=False)\n",
        "\n",
        "            logging.info(f\"Loaded {len(data)} records to the database.\")\n",
        "    except Exception as e:\n",
        "        logging.error(f\"Data refresh failed: {e}\")"
      ],
      "metadata": {
        "id": "53L-fD00EcYy"
      },
      "execution_count": 29,
      "outputs": []
    },
    {
      "cell_type": "code",
      "source": [
        "def refresh_data():\n",
        "    try:\n",
        "        load_data(csv_file_path)\n",
        "        logging.info('Data refresh completed successfully.')\n",
        "        return \"Data refresh completed successfully.\"\n",
        "    except Exception as e:\n",
        "        logging.error(f\"Data refresh failed: {e}\")\n",
        "        return f\"Data refresh failed: {e}\""
      ],
      "metadata": {
        "id": "VOhdq3r7EfKt"
      },
      "execution_count": 30,
      "outputs": []
    },
    {
      "cell_type": "code",
      "source": [
        "@app.route('/refresh', methods=['POST'])\n",
        "def trigger_refresh():\n",
        "    message = refresh_data()\n",
        "    return jsonify({'message': message})\n",
        "\n",
        "@app.route('/total_sales_by_product', methods=['GET'])\n",
        "def total_sales_by_product():\n",
        "    conn = sqlite3.connect(db_path)\n",
        "    query = '''\n",
        "    SELECT ProductName, SUM(TotalPrice) as TotalSales\n",
        "    FROM OrderDetails\n",
        "    JOIN Products ON OrderDetails.ProductID = Products.ProductID\n",
        "    GROUP BY ProductName\n",
        "    '''\n",
        "    df = pd.read_sql_query(query, conn)\n",
        "    result = df.to_dict(orient='records')\n",
        "    conn.close()\n",
        "    return jsonify(result)"
      ],
      "metadata": {
        "id": "CpSW27m4EkKI"
      },
      "execution_count": 31,
      "outputs": []
    },
    {
      "cell_type": "code",
      "source": [
        "\n",
        "if __name__ == \"__main__\":\n",
        "    app.run(debug=True)"
      ],
      "metadata": {
        "colab": {
          "base_uri": "https://localhost:8080/"
        },
        "id": "GZh17_4nEpFv",
        "outputId": "7fe21ac0-4676-4849-d2f4-6463fb915031"
      },
      "execution_count": 32,
      "outputs": [
        {
          "output_type": "stream",
          "name": "stdout",
          "text": [
            " * Serving Flask app '__main__'\n",
            " * Debug mode: on\n"
          ]
        },
        {
          "output_type": "stream",
          "name": "stderr",
          "text": [
            "INFO:werkzeug:\u001b[31m\u001b[1mWARNING: This is a development server. Do not use it in a production deployment. Use a production WSGI server instead.\u001b[0m\n",
            " * Running on http://127.0.0.1:5000\n",
            "INFO:werkzeug:\u001b[33mPress CTRL+C to quit\u001b[0m\n",
            "INFO:werkzeug: * Restarting with stat\n"
          ]
        }
      ]
    },
    {
      "cell_type": "markdown",
      "source": [
        "# STEP - 4\n",
        "## 4. Core Analysis (Triggered via API):"
      ],
      "metadata": {
        "id": "ob_AlRwWHCHA"
      }
    },
    {
      "cell_type": "code",
      "source": [
        "#Queries to execute:\n",
        "#Top N Products\n",
        "@app.route('/refresh', methods=['POST'])\n",
        "def trigger_refresh():\n",
        "    message = refresh_data()\n",
        "    return jsonify({'message': message})\n",
        "\n",
        "@app.route('/total_sales_by_product', methods=['GET'])\n",
        "def total_sales_by_product():\n",
        "    conn = sqlite3.connect(db_path)\n",
        "    query = '''\n",
        "    SELECT c.Region, p.ProductName, SUM(od.QuantitySold) AS TotalQuantitySold\n",
        "    FROM OrderDetails od\n",
        "    JOIN Orders o ON od.OrderID = o.OrderID\n",
        "    JOIN Products p ON od.ProductID = p.ProductID\n",
        "    JOIN Customers c ON o.CustomerID = c.CustomerID\n",
        "    WHERE o.DateOfSale BETWEEN 'start_date' AND 'end_date'\n",
        "    GROUP BY 1, 2\n",
        "    ORDER BY 1, TotalQuantitySold DESC\n",
        "    LIMIT N\n",
        "    '''\n",
        "    df = pd.read_sql_query(query, conn)\n",
        "    result = df.to_dict(orient='records')\n",
        "    conn.close()\n",
        "    return jsonify(result)\n"
      ],
      "metadata": {
        "id": "EN83V1IyHDkT"
      },
      "execution_count": null,
      "outputs": []
    },
    {
      "cell_type": "code",
      "source": [],
      "metadata": {
        "id": "sf99Jg_4KtAU"
      },
      "execution_count": null,
      "outputs": []
    }
  ]
}